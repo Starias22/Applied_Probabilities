{
 "cells": [
  {
   "cell_type": "markdown",
   "id": "abcb2c3e",
   "metadata": {},
   "source": [
    "# Applied probability"
   ]
  },
  {
   "cell_type": "code",
   "execution_count": 446,
   "id": "49ce7e19",
   "metadata": {},
   "outputs": [],
   "source": [
    "import numpy as np\n",
    "import matplotlib.pyplot as plt"
   ]
  },
  {
   "cell_type": "markdown",
   "id": "277d90cc",
   "metadata": {},
   "source": [
    "## Exercise 1"
   ]
  },
  {
   "cell_type": "code",
   "execution_count": 140,
   "id": "357a006a",
   "metadata": {},
   "outputs": [
    {
     "data": {
      "text/plain": [
       "1"
      ]
     },
     "execution_count": 140,
     "metadata": {},
     "output_type": "execute_result"
    }
   ],
   "source": [
    "#Bernoulli\n",
    "def bernoulli(p):\n",
    "    u=np.random.uniform(0,1)\n",
    "    if u<p :\n",
    "            return 1\n",
    "    return 0\n",
    "p=0.25\n",
    "bernoulli(p)"
   ]
  },
  {
   "cell_type": "code",
   "execution_count": 146,
   "id": "bae7cf29",
   "metadata": {},
   "outputs": [
    {
     "data": {
      "text/plain": [
       "99"
      ]
     },
     "execution_count": 146,
     "metadata": {},
     "output_type": "execute_result"
    }
   ],
   "source": [
    "#Binomial\n",
    "def binomial(n,p):\n",
    "    x=0\n",
    "    for i in range(0,n):\n",
    "       #if bernoulli(p):\n",
    "                   x+=bernoulli(i)\n",
    "    return x\n",
    "n=100\n",
    "binomial(n,p)"
   ]
  },
  {
   "cell_type": "code",
   "execution_count": 293,
   "id": "27f00b70",
   "metadata": {},
   "outputs": [
    {
     "data": {
      "text/plain": [
       "6"
      ]
     },
     "execution_count": 293,
     "metadata": {},
     "output_type": "execute_result"
    }
   ],
   "source": [
    "#Geometric\n",
    "def geometric(p):\n",
    "    cpt=1\n",
    "    while(bernoulli(p)==0):\n",
    "        cpt+=1\n",
    "   \n",
    "    return cpt    \n",
    "geometric(p)"
   ]
  },
  {
   "cell_type": "markdown",
   "id": "764492ef",
   "metadata": {},
   "source": [
    "## Exercise 2"
   ]
  },
  {
   "cell_type": "code",
   "execution_count": 421,
   "id": "8267c3d0",
   "metadata": {},
   "outputs": [],
   "source": [
    "def Y(p):\n",
    "    u=np.random.uniform(0,1)\n",
    "    if u<=0.1:\n",
    "        return 1\n",
    "    if 0.1<u and u<0.4:\n",
    "        return 0\n",
    "    if u<=0.5:\n",
    "        return 4 \n",
    "Y(p)   "
   ]
  },
  {
   "cell_type": "markdown",
   "id": "e1108830",
   "metadata": {},
   "source": [
    "## Exercise 3"
   ]
  },
  {
   "cell_type": "code",
   "execution_count": 475,
   "id": "543870e6",
   "metadata": {},
   "outputs": [
    {
     "data": {
      "text/plain": [
       "0.40650001637527294"
      ]
     },
     "execution_count": 475,
     "metadata": {},
     "output_type": "execute_result"
    }
   ],
   "source": [
    "# Exponential\n",
    "def exponential(alpha):\n",
    "    u=np.random.uniform(0,1)\n",
    "    return -(1/alpha)*np.log(1-u)\n",
    "alpha=0.25\n",
    "exponential(alpha)\n"
   ]
  },
  {
   "cell_type": "markdown",
   "id": "bb20fe49",
   "metadata": {},
   "source": [
    " Let X a random variable following the exponential law with parameter alpha\n",
    "Y=int(X)+1\n",
    "#eometric with exp(-alpha) as parameter"
   ]
  },
  {
   "cell_type": "code",
   "execution_count": null,
   "id": "6e006ac9",
   "metadata": {},
   "outputs": [],
   "source": []
  }
 ],
 "metadata": {
  "kernelspec": {
   "display_name": "Python 3 (ipykernel)",
   "language": "python",
   "name": "python3"
  },
  "language_info": {
   "codemirror_mode": {
    "name": "ipython",
    "version": 3
   },
   "file_extension": ".py",
   "mimetype": "text/x-python",
   "name": "python",
   "nbconvert_exporter": "python",
   "pygments_lexer": "ipython3",
   "version": "3.10.12"
  }
 },
 "nbformat": 4,
 "nbformat_minor": 5
}
