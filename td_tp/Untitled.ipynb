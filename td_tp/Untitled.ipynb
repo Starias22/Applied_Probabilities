{
 "cells": [
  {
   "cell_type": "markdown",
   "id": "a43865d1",
   "metadata": {},
   "source": [
    "# Applied probability"
   ]
  },
  {
   "cell_type": "code",
   "execution_count": 446,
   "id": "ee260ce2",
   "metadata": {},
   "outputs": [],
   "source": [
    "import numpy as np\n",
    "import matplotlib.pyplot as plt"
   ]
  },
  {
   "cell_type": "markdown",
   "id": "24841a51",
   "metadata": {},
   "source": [
    "## Exercise 1"
   ]
  },
  {
   "cell_type": "code",
   "execution_count": 140,
   "id": "939887c5",
   "metadata": {},
   "outputs": [
    {
     "data": {
      "text/plain": [
       "1"
      ]
     },
     "execution_count": 140,
     "metadata": {},
     "output_type": "execute_result"
    }
   ],
   "source": [
    "#Bernoulli\n",
    "def bernoulli(p):\n",
    "    u=np.random.uniform(0,1)\n",
    "    if u<p :\n",
    "            return 1\n",
    "    return 0\n",
    "p=0.25\n",
    "bernoulli(p)"
   ]
  },
  {
   "cell_type": "code",
   "execution_count": 146,
   "id": "797cd4fe",
   "metadata": {},
   "outputs": [
    {
     "data": {
      "text/plain": [
       "99"
      ]
     },
     "execution_count": 146,
     "metadata": {},
     "output_type": "execute_result"
    }
   ],
   "source": [
    "#Binomial\n",
    "def binomial(n,p):\n",
    "    x=0\n",
    "    for i in range(0,n):\n",
    "       #if bernoulli(p):\n",
    "                   x+=bernoulli(i)\n",
    "    return x\n",
    "n=100\n",
    "binomial(n,p)"
   ]
  },
  {
   "cell_type": "code",
   "execution_count": 293,
   "id": "545e0098",
   "metadata": {},
   "outputs": [
    {
     "data": {
      "text/plain": [
       "6"
      ]
     },
     "execution_count": 293,
     "metadata": {},
     "output_type": "execute_result"
    }
   ],
   "source": [
    "#Geometric\n",
    "def geometric(p):\n",
    "    cpt=1\n",
    "    while(bernoulli(p)==0):\n",
    "        cpt+=1\n",
    "   \n",
    "    return cpt    \n",
    "geometric(p)"
   ]
  },
  {
   "cell_type": "markdown",
   "id": "eac7de2a",
   "metadata": {},
   "source": [
    "## Exercise 2"
   ]
  },
  {
   "cell_type": "code",
   "execution_count": 421,
   "id": "d368cb3d",
   "metadata": {},
   "outputs": [],
   "source": [
    "def Y(p):\n",
    "    u=np.random.uniform(0,1)\n",
    "    if u<=0.1:\n",
    "        return 1\n",
    "    if 0.1<u and u<0.4:\n",
    "        return 0\n",
    "    if u<=0.5:\n",
    "        return 4 \n",
    "Y(p)   "
   ]
  },
  {
   "cell_type": "markdown",
   "id": "0b85ef02",
   "metadata": {},
   "source": [
    "## Exercise 3"
   ]
  },
  {
   "cell_type": "code",
   "execution_count": 475,
   "id": "4ae46dec",
   "metadata": {},
   "outputs": [
    {
     "data": {
      "text/plain": [
       "0.40650001637527294"
      ]
     },
     "execution_count": 475,
     "metadata": {},
     "output_type": "execute_result"
    }
   ],
   "source": [
    "# Exponential\n",
    "def exponential(alpha):\n",
    "    u=np.random.uniform(0,1)\n",
    "    return -(1/alpha)*np.log(1-u)\n",
    "alpha=0.25\n",
    "exponential(alpha)\n"
   ]
  },
  {
   "cell_type": "markdown",
   "id": "f28183fb",
   "metadata": {},
   "source": [
    " Let X a random variable following the exponential law with parameter alpha\n",
    "So Y=int(X)+1 follows the geometric law with exp(-alpha) as parameter"
   ]
  },
  {
   "cell_type": "code",
   "execution_count": 545,
   "id": "e4732276",
   "metadata": {},
   "outputs": [
    {
     "data": {
      "text/plain": [
       "1"
      ]
     },
     "execution_count": 545,
     "metadata": {},
     "output_type": "execute_result"
    }
   ],
   "source": [
    "def Y(alpha):\n",
    "    return geometric(np.exp(-alpha))\n",
    "\n",
    "Y(alpha)"
   ]
  },
  {
   "cell_type": "markdown",
   "id": "0490628d",
   "metadata": {},
   "source": [
    "## Exercise 4"
   ]
  },
  {
   "cell_type": "code",
   "execution_count": 660,
   "id": "d6f8b67b",
   "metadata": {},
   "outputs": [
    {
     "data": {
      "text/plain": [
       "441.149090072829"
      ]
     },
     "execution_count": 660,
     "metadata": {},
     "output_type": "execute_result"
    }
   ],
   "source": [
    "# Gamma\n",
    "def gamma(n,alpha):\n",
    "    s=0\n",
    "    for i in range(0,n):\n",
    "        s+=exponential(alpha)\n",
    "    return s \n",
    "\n",
    "gamma(n,alpha)\n",
    "\n"
   ]
  },
  {
   "cell_type": "code",
   "execution_count": 698,
   "id": "9e983be7",
   "metadata": {},
   "outputs": [
    {
     "data": {
      "text/plain": [
       "4"
      ]
     },
     "execution_count": 698,
     "metadata": {},
     "output_type": "execute_result"
    }
   ],
   "source": [
    "# Poisson\n",
    "\n",
    "def poisson(alpha):\n",
    "    n=0\n",
    "    while True:\n",
    "        if  gamma(n,alpha)>1:\n",
    "            return n-1\n",
    "        n+=1\n",
    "poisson(alpha)        "
   ]
  },
  {
   "cell_type": "code",
   "execution_count": null,
   "id": "cb8bb0be",
   "metadata": {},
   "outputs": [],
   "source": []
  },
  {
   "cell_type": "code",
   "execution_count": null,
   "id": "cccdc409",
   "metadata": {},
   "outputs": [],
   "source": []
  },
  {
   "cell_type": "code",
   "execution_count": null,
   "id": "5488edb8",
   "metadata": {},
   "outputs": [],
   "source": []
  }
 ],
 "metadata": {
  "kernelspec": {
   "display_name": "Python 3 (ipykernel)",
   "language": "python",
   "name": "python3"
  },
  "language_info": {
   "codemirror_mode": {
    "name": "ipython",
    "version": 3
   },
   "file_extension": ".py",
   "mimetype": "text/x-python",
   "name": "python",
   "nbconvert_exporter": "python",
   "pygments_lexer": "ipython3",
   "version": "3.10.12"
  }
 },
 "nbformat": 4,
 "nbformat_minor": 5
}
